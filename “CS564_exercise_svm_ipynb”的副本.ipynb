{
  "nbformat": 4,
  "nbformat_minor": 0,
  "metadata": {
    "kernelspec": {
      "display_name": "Python 3",
      "language": "python",
      "name": "python3"
    },
    "language_info": {
      "codemirror_mode": {
        "name": "ipython",
        "version": 3
      },
      "file_extension": ".py",
      "mimetype": "text/x-python",
      "name": "python",
      "nbconvert_exporter": "python",
      "pygments_lexer": "ipython3",
      "version": "3.6.5"
    },
    "nav_menu": {},
    "toc": {
      "navigate_menu": true,
      "number_sections": true,
      "sideBar": true,
      "threshold": 6,
      "toc_cell": false,
      "toc_section_display": "block",
      "toc_window_display": false
    },
    "colab": {
      "provenance": [],
      "include_colab_link": true
    }
  },
  "cells": [
    {
      "cell_type": "markdown",
      "metadata": {
        "id": "view-in-github",
        "colab_type": "text"
      },
      "source": [
        "<a href=\"https://colab.research.google.com/github/DejiangZ/Heart-Rate-Monitoring_PPG/blob/master/%E2%80%9CCS564_exercise_svm_ipynb%E2%80%9D%E7%9A%84%E5%89%AF%E6%9C%AC.ipynb\" target=\"_parent\"><img src=\"https://colab.research.google.com/assets/colab-badge.svg\" alt=\"Open In Colab\"/></a>"
      ]
    },
    {
      "cell_type": "markdown",
      "metadata": {
        "id": "2pQauOUIy97v"
      },
      "source": [
        "# Support Vector Machine (SVM)"
      ]
    },
    {
      "cell_type": "markdown",
      "metadata": {
        "id": "1kz4Sx_ny97w"
      },
      "source": [
        "# Setup"
      ]
    },
    {
      "cell_type": "markdown",
      "metadata": {
        "id": "EyQkLPizy97x"
      },
      "source": [
        "First, let's make sure this notebook works well in both python 2 and 3, import a few common modules, ensure MatplotLib plots figures inline and prepare a function to save the figures:"
      ]
    },
    {
      "cell_type": "code",
      "metadata": {
        "id": "p7d2ZCI-y97x"
      },
      "source": [
        "# To support both python 2 and python 3\n",
        "from __future__ import division, print_function, unicode_literals\n",
        "\n",
        "# Common imports\n",
        "import numpy as np\n",
        "import os\n",
        "\n",
        "# to make this notebook's output stable across runs\n",
        "np.random.seed(42)\n",
        "\n",
        "# To plot pretty figures\n",
        "%matplotlib inline\n",
        "import matplotlib as mpl\n",
        "import matplotlib.pyplot as plt\n",
        "mpl.rc('axes', labelsize=14)\n",
        "mpl.rc('xtick', labelsize=12)\n",
        "mpl.rc('ytick', labelsize=12)"
      ],
      "execution_count": null,
      "outputs": []
    },
    {
      "cell_type": "markdown",
      "metadata": {
        "id": "QbuUP-zay971"
      },
      "source": [
        "# Large margin classification"
      ]
    },
    {
      "cell_type": "code",
      "metadata": {
        "id": "5f2iA0g9y971"
      },
      "source": [
        "from sklearn.svm import SVC\n",
        "from sklearn import datasets\n",
        "\n",
        "iris = datasets.load_iris()\n",
        "X = iris[\"data\"][:, (2, 3)]  # petal length, petal width\n",
        "y = iris[\"target\"]\n",
        "\n",
        "setosa_or_versicolor = (y == 0) | (y == 1)\n",
        "X = X[setosa_or_versicolor]\n",
        "y = y[setosa_or_versicolor]\n",
        "\n",
        "# SVM Classifier model\n",
        "svm_clf = SVC(kernel=\"linear\", C=1e10) # C=float(\"inf\"))\n",
        "svm_clf.fit(X, y)"
      ],
      "execution_count": null,
      "outputs": []
    },
    {
      "cell_type": "code",
      "metadata": {
        "id": "zn8TJuW-y974"
      },
      "source": [
        "# Bad models\n",
        "x0 = np.linspace(0, 5.5, 200)\n",
        "pred_1 = 5*x0 - 20\n",
        "pred_2 = x0 - 1.8\n",
        "pred_3 = 0.1 * x0 + 0.5\n",
        "\n",
        "def plot_svc_decision_boundary(svm_clf, xmin, xmax):\n",
        "    w = svm_clf.coef_[0]\n",
        "    b = svm_clf.intercept_[0]\n",
        "\n",
        "    # At the decision boundary, w0*x0 + w1*x1 + b = 0\n",
        "    # => x1 = -w0/w1 * x0 - b/w1\n",
        "    x0 = np.linspace(xmin, xmax, 200)\n",
        "    decision_boundary = -w[0]/w[1] * x0 - b/w[1]\n",
        "\n",
        "    margin = 1/w[1]\n",
        "    gutter_up = decision_boundary + margin\n",
        "    gutter_down = decision_boundary - margin\n",
        "\n",
        "    svs = svm_clf.support_vectors_\n",
        "    plt.scatter(svs[:, 0], svs[:, 1], s=180, facecolors='#FFAAAA')\n",
        "    plt.plot(x0, decision_boundary, \"k-\", linewidth=2)\n",
        "    plt.plot(x0, gutter_up, \"k--\", linewidth=2)\n",
        "    plt.plot(x0, gutter_down, \"k--\", linewidth=2)\n",
        "\n",
        "plt.figure(figsize=(12,2.7))\n",
        "\n",
        "plt.subplot(121)\n",
        "plt.plot(x0, pred_1, \"g--\", linewidth=2)\n",
        "plt.plot(x0, pred_2, \"m-\", linewidth=2)\n",
        "plt.plot(x0, pred_3, \"r-\", linewidth=2)\n",
        "plt.plot(X[:, 0][y==1], X[:, 1][y==1], \"bs\", label=\"Iris-Versicolor\")\n",
        "plt.plot(X[:, 0][y==0], X[:, 1][y==0], \"yo\", label=\"Iris-Setosa\")\n",
        "plt.xlabel(\"Petal length\", fontsize=14)\n",
        "plt.ylabel(\"Petal width\", fontsize=14)\n",
        "plt.legend(loc=\"upper left\", fontsize=14)\n",
        "plt.axis([0, 5.5, 0, 2])\n",
        "\n",
        "plt.subplot(122)\n",
        "plot_svc_decision_boundary(svm_clf, 0, 5.5)\n",
        "plt.plot(X[:, 0][y==1], X[:, 1][y==1], \"bs\")\n",
        "plt.plot(X[:, 0][y==0], X[:, 1][y==0], \"yo\")\n",
        "plt.xlabel(\"Petal length\", fontsize=14)\n",
        "plt.axis([0, 5.5, 0, 2])\n",
        "\n",
        "plt.show()"
      ],
      "execution_count": null,
      "outputs": []
    },
    {
      "cell_type": "markdown",
      "metadata": {
        "id": "vkW6a91oy977"
      },
      "source": [
        "# Large margin *vs* margin violations"
      ]
    },
    {
      "cell_type": "code",
      "metadata": {
        "id": "sgU5KBHky977"
      },
      "source": [
        "import numpy as np\n",
        "from sklearn import datasets\n",
        "from sklearn.pipeline import Pipeline\n",
        "from sklearn.preprocessing import StandardScaler\n",
        "from sklearn.svm import LinearSVC\n",
        "\n",
        "iris = datasets.load_iris()\n",
        "X = iris[\"data\"][:, (2, 3)]  # petal length, petal width\n",
        "y = (iris[\"target\"] == 2).astype(np.float64)  # Iris-Virginica\n",
        "\n",
        "svm_clf = Pipeline([\n",
        "        (\"scaler\", StandardScaler()),\n",
        "        (\"linear_svc\", LinearSVC(C=1, loss=\"hinge\", random_state=42)),\n",
        "    ])\n",
        "\n",
        "svm_clf.fit(X, y)"
      ],
      "execution_count": null,
      "outputs": []
    },
    {
      "cell_type": "code",
      "metadata": {
        "id": "z8PzjT4sy97-"
      },
      "source": [
        "svm_clf.predict([[5.5, 1.7]])"
      ],
      "execution_count": null,
      "outputs": []
    },
    {
      "cell_type": "markdown",
      "metadata": {
        "id": "VDvS_Nozy98A"
      },
      "source": [
        "Now let's generate the graph comparing different regularization settings:"
      ]
    },
    {
      "cell_type": "code",
      "metadata": {
        "id": "pnEFBON4y98B"
      },
      "source": [
        "scaler = StandardScaler()\n",
        "svm_clf1 = LinearSVC(C=1, loss=\"hinge\", random_state=42)\n",
        "svm_clf2 = LinearSVC(C=100, loss=\"hinge\", random_state=42)\n",
        "\n",
        "scaled_svm_clf1 = Pipeline([\n",
        "        (\"scaler\", scaler),\n",
        "        (\"linear_svc\", svm_clf1),\n",
        "    ])\n",
        "scaled_svm_clf2 = Pipeline([\n",
        "        (\"scaler\", scaler),\n",
        "        (\"linear_svc\", svm_clf2),\n",
        "    ])\n",
        "\n",
        "scaled_svm_clf1.fit(X, y)\n",
        "scaled_svm_clf2.fit(X, y)"
      ],
      "execution_count": null,
      "outputs": []
    },
    {
      "cell_type": "code",
      "metadata": {
        "id": "tidtzqFoy98D"
      },
      "source": [
        "# Convert to unscaled parameters\n",
        "b1 = svm_clf1.decision_function([-scaler.mean_ / scaler.scale_])\n",
        "b2 = svm_clf2.decision_function([-scaler.mean_ / scaler.scale_])\n",
        "w1 = svm_clf1.coef_[0] / scaler.scale_\n",
        "w2 = svm_clf2.coef_[0] / scaler.scale_\n",
        "svm_clf1.intercept_ = np.array([b1])\n",
        "svm_clf2.intercept_ = np.array([b2])\n",
        "svm_clf1.coef_ = np.array([w1])\n",
        "svm_clf2.coef_ = np.array([w2])\n",
        "\n",
        "# Find support vectors (LinearSVC does not do this automatically)\n",
        "t = y * 2 - 1\n",
        "support_vectors_idx1 = (t * (X.dot(w1) + b1) < 1).ravel()\n",
        "support_vectors_idx2 = (t * (X.dot(w2) + b2) < 1).ravel()\n",
        "svm_clf1.support_vectors_ = X[support_vectors_idx1]\n",
        "svm_clf2.support_vectors_ = X[support_vectors_idx2]"
      ],
      "execution_count": null,
      "outputs": []
    },
    {
      "cell_type": "code",
      "metadata": {
        "id": "KJI_9yTEy98F"
      },
      "source": [
        "plt.figure(figsize=(12,3.2))\n",
        "plt.subplot(121)\n",
        "plt.plot(X[:, 0][y==1], X[:, 1][y==1], \"g^\", label=\"Iris-Virginica\")\n",
        "plt.plot(X[:, 0][y==0], X[:, 1][y==0], \"bs\", label=\"Iris-Versicolor\")\n",
        "plot_svc_decision_boundary(svm_clf1, 4, 6)\n",
        "plt.xlabel(\"Petal length\", fontsize=14)\n",
        "plt.ylabel(\"Petal width\", fontsize=14)\n",
        "plt.legend(loc=\"upper left\", fontsize=14)\n",
        "plt.title(\"$C = {}$\".format(svm_clf1.C), fontsize=16)\n",
        "plt.axis([4, 6, 0.8, 2.8])\n",
        "\n",
        "plt.subplot(122)\n",
        "plt.plot(X[:, 0][y==1], X[:, 1][y==1], \"g^\")\n",
        "plt.plot(X[:, 0][y==0], X[:, 1][y==0], \"bs\")\n",
        "plot_svc_decision_boundary(svm_clf2, 4, 6)\n",
        "plt.xlabel(\"Petal length\", fontsize=14)\n",
        "plt.title(\"$C = {}$\".format(svm_clf2.C), fontsize=16)\n",
        "plt.axis([4, 6, 0.8, 2.8])"
      ],
      "execution_count": null,
      "outputs": []
    },
    {
      "cell_type": "markdown",
      "metadata": {
        "collapsed": true,
        "id": "mpHMXWczy98H"
      },
      "source": [
        "# Non-linear classification"
      ]
    },
    {
      "cell_type": "code",
      "metadata": {
        "id": "M2vm34tsy98I"
      },
      "source": [
        "X1D = np.linspace(-4, 4, 9).reshape(-1, 1)\n",
        "X2D = np.c_[X1D, X1D**2]\n",
        "y = np.array([0, 0, 1, 1, 1, 1, 1, 0, 0])\n",
        "\n",
        "plt.figure(figsize=(11, 4))\n",
        "\n",
        "plt.subplot(121)\n",
        "plt.grid(True, which='both')\n",
        "plt.axhline(y=0, color='k')\n",
        "plt.plot(X1D[:, 0][y==0], np.zeros(4), \"bs\")\n",
        "plt.plot(X1D[:, 0][y==1], np.zeros(5), \"g^\")\n",
        "plt.gca().get_yaxis().set_ticks([])\n",
        "plt.xlabel(r\"$x_1$\", fontsize=20)\n",
        "plt.axis([-4.5, 4.5, -0.2, 0.2])\n",
        "\n",
        "plt.subplot(122)\n",
        "plt.grid(True, which='both')\n",
        "plt.axhline(y=0, color='k')\n",
        "plt.axvline(x=0, color='k')\n",
        "plt.plot(X2D[:, 0][y==0], X2D[:, 1][y==0], \"bs\")\n",
        "plt.plot(X2D[:, 0][y==1], X2D[:, 1][y==1], \"g^\")\n",
        "plt.xlabel(r\"$x_1$\", fontsize=20)\n",
        "plt.ylabel(r\"$x_2$\", fontsize=20, rotation=0)\n",
        "plt.gca().get_yaxis().set_ticks([0, 4, 8, 12, 16])\n",
        "plt.plot([-4.5, 4.5], [6.5, 6.5], \"r--\", linewidth=3)\n",
        "plt.axis([-4.5, 4.5, -1, 17])\n",
        "\n",
        "plt.subplots_adjust(right=1)\n",
        "\n",
        "plt.show()"
      ],
      "execution_count": null,
      "outputs": []
    },
    {
      "cell_type": "code",
      "metadata": {
        "id": "S8x7fCT9y98K"
      },
      "source": [
        "from sklearn.datasets import make_moons\n",
        "X, y = make_moons(n_samples=100, noise=0.15, random_state=42)\n",
        "\n",
        "def plot_dataset(X, y, axes):\n",
        "    plt.plot(X[:, 0][y==0], X[:, 1][y==0], \"bs\")\n",
        "    plt.plot(X[:, 0][y==1], X[:, 1][y==1], \"g^\")\n",
        "    plt.axis(axes)\n",
        "    plt.grid(True, which='both')\n",
        "    plt.xlabel(r\"$x_1$\", fontsize=20)\n",
        "    plt.ylabel(r\"$x_2$\", fontsize=20, rotation=0)\n",
        "\n",
        "plot_dataset(X, y, [-1.5, 2.5, -1, 1.5])\n",
        "plt.show()"
      ],
      "execution_count": null,
      "outputs": []
    },
    {
      "cell_type": "code",
      "metadata": {
        "id": "ovuAmCtny98N"
      },
      "source": [
        "def plot_predictions(clf, axes):\n",
        "    x0s = np.linspace(axes[0], axes[1], 100)\n",
        "    x1s = np.linspace(axes[2], axes[3], 100)\n",
        "    x0, x1 = np.meshgrid(x0s, x1s)\n",
        "    X = np.c_[x0.ravel(), x1.ravel()]\n",
        "    y_pred = clf.predict(X).reshape(x0.shape)\n",
        "    y_decision = clf.decision_function(X).reshape(x0.shape)\n",
        "    plt.contourf(x0, x1, y_pred, cmap=plt.cm.brg, alpha=0.2)\n",
        "    plt.contourf(x0, x1, y_decision, cmap=plt.cm.brg, alpha=0.1)"
      ],
      "execution_count": null,
      "outputs": []
    },
    {
      "cell_type": "markdown",
      "metadata": {
        "id": "7TQNMIKJy98P"
      },
      "source": [
        "The hyperparameter `coef0` controls how much the model is influenced by high-degree polynomials versus low-degree polynomials."
      ]
    },
    {
      "cell_type": "code",
      "metadata": {
        "id": "vGBeOSA0y98Q"
      },
      "source": [
        "from sklearn.svm import SVC\n",
        "\n",
        "poly_kernel_svm_clf = Pipeline([\n",
        "        (\"scaler\", StandardScaler()),\n",
        "        (\"svm_clf\", SVC(kernel=\"poly\", degree=3, coef0=1, C=5))\n",
        "    ])\n",
        "poly_kernel_svm_clf.fit(X, y)"
      ],
      "execution_count": null,
      "outputs": []
    },
    {
      "cell_type": "code",
      "metadata": {
        "id": "ZYBhQmRRy98S"
      },
      "source": [
        "poly100_kernel_svm_clf = Pipeline([\n",
        "        (\"scaler\", StandardScaler()),\n",
        "        (\"svm_clf\", SVC(kernel=\"poly\", degree=10, coef0=100, C=5))\n",
        "    ])\n",
        "poly100_kernel_svm_clf.fit(X, y)"
      ],
      "execution_count": null,
      "outputs": []
    },
    {
      "cell_type": "code",
      "metadata": {
        "id": "7U-zcri6y98U"
      },
      "source": [
        "plt.figure(figsize=(11, 4))\n",
        "\n",
        "plt.subplot(121)\n",
        "plot_predictions(poly_kernel_svm_clf, [-1.5, 2.5, -1, 1.5])\n",
        "plot_dataset(X, y, [-1.5, 2.5, -1, 1.5])\n",
        "plt.title(r\"$d=3, r=1, C=5$\", fontsize=18)\n",
        "\n",
        "plt.subplot(122)\n",
        "plot_predictions(poly100_kernel_svm_clf, [-1.5, 2.5, -1, 1.5])\n",
        "plot_dataset(X, y, [-1.5, 2.5, -1, 1.5])\n",
        "plt.title(r\"$d=10, r=100, C=5$\", fontsize=18)\n",
        "\n",
        "plt.show()"
      ],
      "execution_count": null,
      "outputs": []
    },
    {
      "cell_type": "markdown",
      "metadata": {
        "id": "wBWMNYjEUvzu"
      },
      "source": [
        "The *Gaussian Radial Basis Function (RBF)* is a bell-shaped function varying from 0 (very far away from the landmark) to 1 (at the landmark)."
      ]
    },
    {
      "cell_type": "code",
      "metadata": {
        "scrolled": true,
        "id": "LnebiUk9y98W"
      },
      "source": [
        "def gaussian_rbf(x, landmark, gamma):\n",
        "    return np.exp(-gamma * np.linalg.norm(x - landmark, axis=1)**2)\n",
        "\n",
        "gamma = 0.3\n",
        "\n",
        "x1s = np.linspace(-4.5, 4.5, 200).reshape(-1, 1)\n",
        "x2s = gaussian_rbf(x1s, -2, gamma)\n",
        "x3s = gaussian_rbf(x1s, 1, gamma)\n",
        "\n",
        "XK = np.c_[gaussian_rbf(X1D, -2, gamma), gaussian_rbf(X1D, 1, gamma)]\n",
        "yk = np.array([0, 0, 1, 1, 1, 1, 1, 0, 0])\n",
        "\n",
        "plt.figure(figsize=(11, 4))\n",
        "\n",
        "plt.subplot(121)\n",
        "plt.grid(True, which='both')\n",
        "plt.axhline(y=0, color='k')\n",
        "plt.scatter(x=[-2, 1], y=[0, 0], s=150, alpha=0.5, c=\"red\")\n",
        "plt.plot(X1D[:, 0][yk==0], np.zeros(4), \"bs\")\n",
        "plt.plot(X1D[:, 0][yk==1], np.zeros(5), \"g^\")\n",
        "plt.plot(x1s, x2s, \"g--\")\n",
        "plt.plot(x1s, x3s, \"b:\")\n",
        "plt.gca().get_yaxis().set_ticks([0, 0.25, 0.5, 0.75, 1])\n",
        "plt.xlabel(r\"$x_1$\", fontsize=20)\n",
        "plt.ylabel(r\"Similarity\", fontsize=14)\n",
        "plt.annotate(r'$\\mathbf{x}$',\n",
        "             xy=(X1D[3, 0], 0),\n",
        "             xytext=(-0.5, 0.20),\n",
        "             ha=\"center\",\n",
        "             arrowprops=dict(facecolor='black', shrink=0.1),\n",
        "             fontsize=18,\n",
        "            )\n",
        "plt.text(-2, 0.9, \"$x_2$\", ha=\"center\", fontsize=20)\n",
        "plt.text(1, 0.9, \"$x_3$\", ha=\"center\", fontsize=20)\n",
        "plt.axis([-4.5, 4.5, -0.1, 1.1])\n",
        "\n",
        "plt.subplot(122)\n",
        "plt.grid(True, which='both')\n",
        "plt.axhline(y=0, color='k')\n",
        "plt.axvline(x=0, color='k')\n",
        "plt.plot(XK[:, 0][yk==0], XK[:, 1][yk==0], \"bs\")\n",
        "plt.plot(XK[:, 0][yk==1], XK[:, 1][yk==1], \"g^\")\n",
        "plt.xlabel(r\"$x_2$\", fontsize=20)\n",
        "plt.ylabel(r\"$x_3$  \", fontsize=20, rotation=0)\n",
        "plt.annotate(r'$\\phi\\left(\\mathbf{x}\\right)$',\n",
        "             xy=(XK[3, 0], XK[3, 1]),\n",
        "             xytext=(0.65, 0.50),\n",
        "             ha=\"center\",\n",
        "             arrowprops=dict(facecolor='black', shrink=0.1),\n",
        "             fontsize=18,\n",
        "            )\n",
        "plt.plot([-0.1, 1.1], [0.57, -0.1], \"r--\", linewidth=3)\n",
        "plt.axis([-0.1, 1.1, -0.1, 1.1])\n",
        "\n",
        "plt.subplots_adjust(right=1)\n",
        "\n",
        "plt.show()"
      ],
      "execution_count": null,
      "outputs": []
    },
    {
      "cell_type": "code",
      "metadata": {
        "id": "3gjG7eYLy98Y"
      },
      "source": [
        "x1_example = X1D[3, 0]\n",
        "for landmark in (-2, 1):\n",
        "    k = gaussian_rbf(np.array([[x1_example]]), np.array([[landmark]]), gamma)\n",
        "    print(\"Phi({}, {}) = {}\".format(x1_example, landmark, k))"
      ],
      "execution_count": null,
      "outputs": []
    },
    {
      "cell_type": "markdown",
      "metadata": {
        "id": "WGGJ2rbVWP0V"
      },
      "source": [
        "Increasing `gamma` makes the bell-shape curve narrower, and as a result each instance's range of influence is smaller: the decision boundary ends up being more irregular, wiggling around individual instances. Conversely, a small `gamma` value makes the bell-shaped curve wider, so instances have a larger range of influence, and the decision boundary ends up smoother."
      ]
    },
    {
      "cell_type": "code",
      "metadata": {
        "id": "c9oOXbRYy98b"
      },
      "source": [
        "rbf_kernel_svm_clf = Pipeline([\n",
        "        (\"scaler\", StandardScaler()),\n",
        "        (\"svm_clf\", SVC(kernel=\"rbf\", gamma=5, C=0.001))\n",
        "    ])\n",
        "rbf_kernel_svm_clf.fit(X, y)"
      ],
      "execution_count": null,
      "outputs": []
    },
    {
      "cell_type": "code",
      "metadata": {
        "scrolled": true,
        "id": "MRR3D7Ooy98d"
      },
      "source": [
        "from sklearn.svm import SVC\n",
        "\n",
        "gamma1, gamma2 = 0.1, 5\n",
        "C1, C2 = 0.001, 1000\n",
        "hyperparams = (gamma1, C1), (gamma1, C2), (gamma2, C1), (gamma2, C2)\n",
        "\n",
        "svm_clfs = []\n",
        "for gamma, C in hyperparams:\n",
        "    rbf_kernel_svm_clf = Pipeline([\n",
        "            (\"scaler\", StandardScaler()),\n",
        "            (\"svm_clf\", SVC(kernel=\"rbf\", gamma=gamma, C=C))\n",
        "        ])\n",
        "    rbf_kernel_svm_clf.fit(X, y)\n",
        "    svm_clfs.append(rbf_kernel_svm_clf)\n",
        "\n",
        "plt.figure(figsize=(11, 7))\n",
        "\n",
        "for i, svm_clf in enumerate(svm_clfs):\n",
        "    plt.subplot(221 + i)\n",
        "    plot_predictions(svm_clf, [-1.5, 2.5, -1, 1.5])\n",
        "    plot_dataset(X, y, [-1.5, 2.5, -1, 1.5])\n",
        "    gamma, C = hyperparams[i]\n",
        "    plt.title(r\"$\\gamma = {}, C = {}$\".format(gamma, C), fontsize=16)\n",
        "\n",
        "plt.show()"
      ],
      "execution_count": null,
      "outputs": []
    },
    {
      "cell_type": "markdown",
      "metadata": {
        "id": "EVFlEWFUy98f"
      },
      "source": [
        "# Exercises"
      ]
    },
    {
      "cell_type": "markdown",
      "metadata": {
        "id": "eE6W0fUiy98h"
      },
      "source": [
        "### Q1: Repeat the question for the decision tree with SVM."
      ]
    },
    {
      "cell_type": "markdown",
      "metadata": {
        "collapsed": true,
        "id": "lAyQBvGLy98i"
      },
      "source": [
        "Try to train an `SVC` with various kernel functions and hyperparameter values."
      ]
    },
    {
      "cell_type": "code",
      "metadata": {
        "id": "kRIeGYwOy98i"
      },
      "source": [
        "from sklearn.datasets import make_moons\n",
        "\n",
        "X, y = make_moons(n_samples=10000, noise=0.4, random_state=42)"
      ],
      "execution_count": null,
      "outputs": []
    },
    {
      "cell_type": "code",
      "metadata": {
        "id": "djiVQqGAej5L"
      },
      "source": [
        "from sklearn.model_selection import train_test_split\n",
        "\n",
        "X_train, X_test, y_train, y_test = train_test_split(X, y, test_size=0.2, random_state=42)"
      ],
      "execution_count": null,
      "outputs": []
    },
    {
      "cell_type": "code",
      "metadata": {
        "id": "MOBB9fPVeliD"
      },
      "source": [
        "import numpy as np\n",
        "from sklearn import datasets\n",
        "from sklearn.pipeline import Pipeline\n",
        "from sklearn.preprocessing import StandardScaler\n",
        "from sklearn.svm import SVC\n",
        "\n",
        "# You can do grid search or set to other kernel functions and hyperparameter values\n",
        "rbf_kernel_svm_clf = Pipeline([\n",
        "        (\"scaler\", StandardScaler()),\n",
        "        (\"svm_clf\", SVC(kernel=\"rbf\", gamma=5, C=100))\n",
        "    ])\n",
        "rbf_kernel_svm_clf.fit(X_train, y_train)"
      ],
      "execution_count": null,
      "outputs": []
    },
    {
      "cell_type": "code",
      "metadata": {
        "id": "ocq0BtNAepi1"
      },
      "source": [
        "from sklearn.metrics import accuracy_score\n",
        "\n",
        "y_pred = rbf_kernel_svm_clf.predict(X_test)\n",
        "accuracy_score(y_test, y_pred)"
      ],
      "execution_count": null,
      "outputs": []
    }
  ]
}